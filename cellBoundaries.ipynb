{
 "cells": [
  {
   "cell_type": "markdown",
   "id": "1917257d-f5f6-4267-beda-85c703df6baa",
   "metadata": {},
   "source": [
    "### Map each cell label to its sorted boundary coordinates across image planes."
   ]
  },
  {
   "cell_type": "code",
   "execution_count": 23,
   "id": "3d22b258-6a7a-4cb2-b433-fe8cf8abf430",
   "metadata": {},
   "outputs": [],
   "source": [
    "import pandas as pd\n",
    "import numpy as np\n",
    "from collections import defaultdict\n",
    "from scipy.sparse import coo_matrix\n",
    "import json\n",
    "import pciSeq\n",
    "import os\n",
    "from joblib import Parallel, delayed\n",
    "from pciSeq.src.preprocess.cell_processing import extract_borders\n",
    "from concurrent.futures import ProcessPoolExecutor, ThreadPoolExecutor, as_completed\n",
    "import time"
   ]
  },
  {
   "cell_type": "code",
   "execution_count": 24,
   "id": "66c2e5c5-9045-4730-91f4-494bf6c95791",
   "metadata": {},
   "outputs": [],
   "source": [
    "root_dir = r'/home/dimitris/data/Izzie/Aang_coppa_v1_0_0_output/'"
   ]
  },
  {
   "cell_type": "code",
   "execution_count": 32,
   "id": "6e265883-1303-4641-b193-bd756690a91f",
   "metadata": {},
   "outputs": [],
   "source": [
    "ca1_masks = np.load(os.path.join(root_dir, '3d_masks', 'ca1_masks_normalised.npy'))\n",
    "# ca1_masks = np.load(os.path.join(root_dir, 'v1-aang2D_unfiltered-dapi_masks.npy'))\n",
    "ca1_masks = [coo_matrix(d) for d in ca1_masks]"
   ]
  },
  {
   "cell_type": "code",
   "execution_count": 34,
   "id": "9e1c2a77-9b4a-4dfb-b9a5-965eb0dd2f1d",
   "metadata": {},
   "outputs": [],
   "source": [
    "# extract_borders(ca1_masks[54].toarray().astype(np.uint32)).head(2).to_clipboard()"
   ]
  },
  {
   "cell_type": "markdown",
   "id": "4ed82fc9-d11f-4781-b024-3529ff24c66c",
   "metadata": {},
   "source": [
    "### Simple function"
   ]
  },
  {
   "cell_type": "code",
   "execution_count": 35,
   "id": "9378b4aa-5f3b-4286-a6fa-198a0bc6b028",
   "metadata": {},
   "outputs": [],
   "source": [
    "def process_ca1_masks(ca1_masks):\n",
    "    results = []\n",
    "\n",
    "    # Iterate over all planes\n",
    "    for plane_num in range(len(ca1_masks)):\n",
    "        df_plane = extract_borders(ca1_masks[plane_num].toarray().astype(np.uint32))\n",
    "        df_plane[\"plane_num\"] = plane_num\n",
    "        results.append(df_plane)\n",
    "\n",
    "    # Combine all dataframes\n",
    "    combined_df = pd.concat(results, ignore_index=True)\n",
    "\n",
    "    # Create dictionary structure\n",
    "    label_coords_dict = defaultdict(dict)\n",
    "\n",
    "    # Populate dictionary\n",
    "    for _, row in combined_df.iterrows():\n",
    "        label = row['label']\n",
    "        plane = row['plane_num']\n",
    "        coords = row['coords']\n",
    "\n",
    "        label_coords_dict[label][plane] = coords\n",
    "\n",
    "    # Sort inner dictionaries by plane number\n",
    "    sorted_label_coords_dict = {\n",
    "        label: dict(sorted(plane_dict.items()))\n",
    "        for label, plane_dict in label_coords_dict.items()\n",
    "    }\n",
    "\n",
    "    return sorted_label_coords_dict"
   ]
  },
  {
   "cell_type": "code",
   "execution_count": 36,
   "id": "6422fc28-a8a6-40f8-a202-b623c114c6b0",
   "metadata": {},
   "outputs": [
    {
     "name": "stdout",
     "output_type": "stream",
     "text": [
      "Execution time: 47.11 seconds\n"
     ]
    }
   ],
   "source": [
    "start_time = time.time()\n",
    "out_1 = process_ca1_masks(ca1_masks)\n",
    "end_time = time.time()\n",
    "print(f\"Execution time: {end_time - start_time:.2f} seconds\")"
   ]
  },
  {
   "cell_type": "code",
   "execution_count": null,
   "id": "2e454c87-e7df-427a-a83c-fdfca83f574b",
   "metadata": {},
   "outputs": [],
   "source": []
  },
  {
   "cell_type": "code",
   "execution_count": null,
   "id": "a64d2f74-2331-49ce-9490-77d77bb26cc6",
   "metadata": {},
   "outputs": [],
   "source": []
  },
  {
   "cell_type": "markdown",
   "id": "48101861-8447-43f4-aa37-b35ee0784c3d",
   "metadata": {},
   "source": [
    "### Optimised, using ProcessPoolExecutor"
   ]
  },
  {
   "cell_type": "code",
   "execution_count": 37,
   "id": "bd402eb9-9a82-4de8-bf48-5b04969dfdb1",
   "metadata": {},
   "outputs": [],
   "source": [
    "def process_one_plane(args):\n",
    "    plane_num, mask = args\n",
    "    arr = mask.toarray().astype(np.uint32)\n",
    "    df = extract_borders(arr)\n",
    "    # return list of (label, plane_num, coords)\n",
    "    return [(row.label, plane_num, row.coords) for row in df.itertuples(index=False)]\n",
    "\n",
    "def process_ca1_masks_parallel(ca1_masks, n_workers=None):\n",
    "    # build jobs\n",
    "    jobs = enumerate(ca1_masks)\n",
    "    label_coords = defaultdict(dict)\n",
    "\n",
    "    # fire off all planes\n",
    "    with ProcessPoolExecutor(max_workers=n_workers) as exe:\n",
    "        futures = {exe.submit(process_one_plane, job): job[0] for job in jobs}\n",
    "        for fut in as_completed(futures):\n",
    "            for label, plane, coords in fut.result():\n",
    "                label_coords[label][plane] = coords\n",
    "\n",
    "    # sort plane dicts\n",
    "    return {\n",
    "        lbl: dict(sorted(planes.items()))\n",
    "        for lbl, planes in label_coords.items()\n",
    "    }\n",
    "\n"
   ]
  },
  {
   "cell_type": "code",
   "execution_count": 38,
   "id": "b234017f-fa5f-4166-b09a-02c037d899c1",
   "metadata": {},
   "outputs": [
    {
     "name": "stdout",
     "output_type": "stream",
     "text": [
      "Execution time: 23.22 seconds\n"
     ]
    }
   ],
   "source": [
    "start_time = time.time()\n",
    "out_2 = process_ca1_masks_parallel(ca1_masks)\n",
    "end_time = time.time()\n",
    "print(f\"Execution time: {end_time - start_time:.2f} seconds\")"
   ]
  },
  {
   "cell_type": "markdown",
   "id": "e7b26fbb-3598-47bd-a12b-de531aeceb99",
   "metadata": {},
   "source": [
    "### Save as a json file"
   ]
  },
  {
   "cell_type": "code",
   "execution_count": 39,
   "id": "0fe11da8-67aa-47c9-814a-81df7eac79e8",
   "metadata": {},
   "outputs": [],
   "source": [
    "# Wrap it with a metadata section\n",
    "to_dump = {\n",
    "    \"__metadata__\": {\n",
    "        \"description\": \"cell_boundaries maps each cell label to a dict; \"\n",
    "                       \"for each label (int), the value is another dict \"\n",
    "                       \"mapping plane numbers (int) to a list of \"\n",
    "                       \"boundary coordinates, where each coordinate \"\n",
    "                       \"is [x, y].\"\n",
    "    },\n",
    "    \"cell_boundaries\": out_2\n",
    "}\n",
    "\n",
    "# Write it out\n",
    "with open(\"cell_boundaries.json\", \"w\") as f:\n",
    "    json.dump(to_dump, f, indent=2)"
   ]
  },
  {
   "cell_type": "code",
   "execution_count": null,
   "id": "0a7a908f-0cad-43b1-bfb9-7f20f2a6908c",
   "metadata": {},
   "outputs": [],
   "source": [
    "\n"
   ]
  },
  {
   "cell_type": "code",
   "execution_count": null,
   "id": "5557c2c8-8ead-407b-a895-4083d7e92090",
   "metadata": {},
   "outputs": [],
   "source": []
  },
  {
   "cell_type": "code",
   "execution_count": null,
   "id": "7125bbfa-462c-4822-89f3-3f6865cdd552",
   "metadata": {},
   "outputs": [],
   "source": [
    "np.all([out_2[i] == out_1[i] for i in out_1.keys()])"
   ]
  },
  {
   "cell_type": "code",
   "execution_count": null,
   "id": "12bbfedd-5c8a-43f5-a61d-e816abedb2e1",
   "metadata": {},
   "outputs": [],
   "source": []
  },
  {
   "cell_type": "code",
   "execution_count": null,
   "id": "09107458-be4a-4706-b7e0-970a47f3a9fb",
   "metadata": {},
   "outputs": [],
   "source": []
  },
  {
   "cell_type": "code",
   "execution_count": 12,
   "id": "d9b81501-bd46-472c-8497-8c8f2bd3aa6f",
   "metadata": {},
   "outputs": [
    {
     "data": {
      "text/plain": [
       "[<COOrdinate sparse matrix of dtype 'uint16'\n",
       " \twith 0 stored elements and shape (2000, 5130)>,\n",
       " <COOrdinate sparse matrix of dtype 'uint16'\n",
       " \twith 0 stored elements and shape (2000, 5130)>,\n",
       " <COOrdinate sparse matrix of dtype 'uint16'\n",
       " \twith 8888 stored elements and shape (2000, 5130)>,\n",
       " <COOrdinate sparse matrix of dtype 'uint16'\n",
       " \twith 51507 stored elements and shape (2000, 5130)>,\n",
       " <COOrdinate sparse matrix of dtype 'uint16'\n",
       " \twith 121652 stored elements and shape (2000, 5130)>,\n",
       " <COOrdinate sparse matrix of dtype 'uint16'\n",
       " \twith 256100 stored elements and shape (2000, 5130)>,\n",
       " <COOrdinate sparse matrix of dtype 'uint16'\n",
       " \twith 454727 stored elements and shape (2000, 5130)>,\n",
       " <COOrdinate sparse matrix of dtype 'uint16'\n",
       " \twith 742317 stored elements and shape (2000, 5130)>,\n",
       " <COOrdinate sparse matrix of dtype 'uint16'\n",
       " \twith 1059724 stored elements and shape (2000, 5130)>,\n",
       " <COOrdinate sparse matrix of dtype 'uint16'\n",
       " \twith 1340523 stored elements and shape (2000, 5130)>,\n",
       " <COOrdinate sparse matrix of dtype 'uint16'\n",
       " \twith 1569391 stored elements and shape (2000, 5130)>,\n",
       " <COOrdinate sparse matrix of dtype 'uint16'\n",
       " \twith 1730794 stored elements and shape (2000, 5130)>,\n",
       " <COOrdinate sparse matrix of dtype 'uint16'\n",
       " \twith 1837324 stored elements and shape (2000, 5130)>,\n",
       " <COOrdinate sparse matrix of dtype 'uint16'\n",
       " \twith 1918175 stored elements and shape (2000, 5130)>,\n",
       " <COOrdinate sparse matrix of dtype 'uint16'\n",
       " \twith 1984568 stored elements and shape (2000, 5130)>,\n",
       " <COOrdinate sparse matrix of dtype 'uint16'\n",
       " \twith 2041222 stored elements and shape (2000, 5130)>,\n",
       " <COOrdinate sparse matrix of dtype 'uint16'\n",
       " \twith 2092761 stored elements and shape (2000, 5130)>,\n",
       " <COOrdinate sparse matrix of dtype 'uint16'\n",
       " \twith 2149757 stored elements and shape (2000, 5130)>,\n",
       " <COOrdinate sparse matrix of dtype 'uint16'\n",
       " \twith 2218081 stored elements and shape (2000, 5130)>,\n",
       " <COOrdinate sparse matrix of dtype 'uint16'\n",
       " \twith 2290729 stored elements and shape (2000, 5130)>,\n",
       " <COOrdinate sparse matrix of dtype 'uint16'\n",
       " \twith 2362970 stored elements and shape (2000, 5130)>,\n",
       " <COOrdinate sparse matrix of dtype 'uint16'\n",
       " \twith 2433104 stored elements and shape (2000, 5130)>,\n",
       " <COOrdinate sparse matrix of dtype 'uint16'\n",
       " \twith 2504567 stored elements and shape (2000, 5130)>,\n",
       " <COOrdinate sparse matrix of dtype 'uint16'\n",
       " \twith 2569300 stored elements and shape (2000, 5130)>,\n",
       " <COOrdinate sparse matrix of dtype 'uint16'\n",
       " \twith 2617285 stored elements and shape (2000, 5130)>,\n",
       " <COOrdinate sparse matrix of dtype 'uint16'\n",
       " \twith 2656701 stored elements and shape (2000, 5130)>,\n",
       " <COOrdinate sparse matrix of dtype 'uint16'\n",
       " \twith 2700358 stored elements and shape (2000, 5130)>,\n",
       " <COOrdinate sparse matrix of dtype 'uint16'\n",
       " \twith 2734358 stored elements and shape (2000, 5130)>,\n",
       " <COOrdinate sparse matrix of dtype 'uint16'\n",
       " \twith 2748792 stored elements and shape (2000, 5130)>,\n",
       " <COOrdinate sparse matrix of dtype 'uint16'\n",
       " \twith 2755091 stored elements and shape (2000, 5130)>,\n",
       " <COOrdinate sparse matrix of dtype 'uint16'\n",
       " \twith 2762920 stored elements and shape (2000, 5130)>,\n",
       " <COOrdinate sparse matrix of dtype 'uint16'\n",
       " \twith 2756406 stored elements and shape (2000, 5130)>,\n",
       " <COOrdinate sparse matrix of dtype 'uint16'\n",
       " \twith 2743947 stored elements and shape (2000, 5130)>,\n",
       " <COOrdinate sparse matrix of dtype 'uint16'\n",
       " \twith 2734509 stored elements and shape (2000, 5130)>,\n",
       " <COOrdinate sparse matrix of dtype 'uint16'\n",
       " \twith 2729202 stored elements and shape (2000, 5130)>,\n",
       " <COOrdinate sparse matrix of dtype 'uint16'\n",
       " \twith 2726719 stored elements and shape (2000, 5130)>,\n",
       " <COOrdinate sparse matrix of dtype 'uint16'\n",
       " \twith 2722324 stored elements and shape (2000, 5130)>,\n",
       " <COOrdinate sparse matrix of dtype 'uint16'\n",
       " \twith 2716768 stored elements and shape (2000, 5130)>,\n",
       " <COOrdinate sparse matrix of dtype 'uint16'\n",
       " \twith 2699377 stored elements and shape (2000, 5130)>,\n",
       " <COOrdinate sparse matrix of dtype 'uint16'\n",
       " \twith 2683347 stored elements and shape (2000, 5130)>,\n",
       " <COOrdinate sparse matrix of dtype 'uint16'\n",
       " \twith 2668022 stored elements and shape (2000, 5130)>,\n",
       " <COOrdinate sparse matrix of dtype 'uint16'\n",
       " \twith 2635972 stored elements and shape (2000, 5130)>,\n",
       " <COOrdinate sparse matrix of dtype 'uint16'\n",
       " \twith 2596878 stored elements and shape (2000, 5130)>,\n",
       " <COOrdinate sparse matrix of dtype 'uint16'\n",
       " \twith 2553941 stored elements and shape (2000, 5130)>,\n",
       " <COOrdinate sparse matrix of dtype 'uint16'\n",
       " \twith 2506298 stored elements and shape (2000, 5130)>,\n",
       " <COOrdinate sparse matrix of dtype 'uint16'\n",
       " \twith 2443480 stored elements and shape (2000, 5130)>,\n",
       " <COOrdinate sparse matrix of dtype 'uint16'\n",
       " \twith 2374530 stored elements and shape (2000, 5130)>,\n",
       " <COOrdinate sparse matrix of dtype 'uint16'\n",
       " \twith 2299184 stored elements and shape (2000, 5130)>,\n",
       " <COOrdinate sparse matrix of dtype 'uint16'\n",
       " \twith 2213343 stored elements and shape (2000, 5130)>,\n",
       " <COOrdinate sparse matrix of dtype 'uint16'\n",
       " \twith 2106049 stored elements and shape (2000, 5130)>,\n",
       " <COOrdinate sparse matrix of dtype 'uint16'\n",
       " \twith 1985399 stored elements and shape (2000, 5130)>,\n",
       " <COOrdinate sparse matrix of dtype 'uint16'\n",
       " \twith 1864412 stored elements and shape (2000, 5130)>,\n",
       " <COOrdinate sparse matrix of dtype 'uint16'\n",
       " \twith 1742302 stored elements and shape (2000, 5130)>,\n",
       " <COOrdinate sparse matrix of dtype 'uint16'\n",
       " \twith 1634120 stored elements and shape (2000, 5130)>,\n",
       " <COOrdinate sparse matrix of dtype 'uint16'\n",
       " \twith 1518989 stored elements and shape (2000, 5130)>,\n",
       " <COOrdinate sparse matrix of dtype 'uint16'\n",
       " \twith 1412882 stored elements and shape (2000, 5130)>,\n",
       " <COOrdinate sparse matrix of dtype 'uint16'\n",
       " \twith 1299870 stored elements and shape (2000, 5130)>,\n",
       " <COOrdinate sparse matrix of dtype 'uint16'\n",
       " \twith 1179093 stored elements and shape (2000, 5130)>,\n",
       " <COOrdinate sparse matrix of dtype 'uint16'\n",
       " \twith 1051779 stored elements and shape (2000, 5130)>,\n",
       " <COOrdinate sparse matrix of dtype 'uint16'\n",
       " \twith 950743 stored elements and shape (2000, 5130)>,\n",
       " <COOrdinate sparse matrix of dtype 'uint16'\n",
       " \twith 857563 stored elements and shape (2000, 5130)>,\n",
       " <COOrdinate sparse matrix of dtype 'uint16'\n",
       " \twith 746255 stored elements and shape (2000, 5130)>,\n",
       " <COOrdinate sparse matrix of dtype 'uint16'\n",
       " \twith 605294 stored elements and shape (2000, 5130)>,\n",
       " <COOrdinate sparse matrix of dtype 'uint16'\n",
       " \twith 447028 stored elements and shape (2000, 5130)>,\n",
       " <COOrdinate sparse matrix of dtype 'uint16'\n",
       " \twith 330240 stored elements and shape (2000, 5130)>,\n",
       " <COOrdinate sparse matrix of dtype 'uint16'\n",
       " \twith 199305 stored elements and shape (2000, 5130)>,\n",
       " <COOrdinate sparse matrix of dtype 'uint16'\n",
       " \twith 106049 stored elements and shape (2000, 5130)>,\n",
       " <COOrdinate sparse matrix of dtype 'uint16'\n",
       " \twith 13452 stored elements and shape (2000, 5130)>]"
      ]
     },
     "execution_count": 12,
     "metadata": {},
     "output_type": "execute_result"
    }
   ],
   "source": [
    "ca1_masks"
   ]
  },
  {
   "cell_type": "code",
   "execution_count": null,
   "id": "a4c04924-d896-411b-8f5d-bc5feb443662",
   "metadata": {},
   "outputs": [],
   "source": []
  }
 ],
 "metadata": {
  "kernelspec": {
   "display_name": "Python 3 (ipykernel)",
   "language": "python",
   "name": "python3"
  },
  "language_info": {
   "codemirror_mode": {
    "name": "ipython",
    "version": 3
   },
   "file_extension": ".py",
   "mimetype": "text/x-python",
   "name": "python",
   "nbconvert_exporter": "python",
   "pygments_lexer": "ipython3",
   "version": "3.10.16"
  }
 },
 "nbformat": 4,
 "nbformat_minor": 5
}
